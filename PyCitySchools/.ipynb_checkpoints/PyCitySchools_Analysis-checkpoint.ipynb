{
 "cells": [
  {
   "cell_type": "markdown",
   "id": "a0f7c559",
   "metadata": {},
   "source": [
    "# PyCity Schools Analysis"
   ]
  },
  {
   "cell_type": "code",
   "execution_count": 1,
   "id": "6b61e10f",
   "metadata": {
    "scrolled": true
   },
   "outputs": [
    {
     "data": {
      "text/html": [
       "<div>\n",
       "<style scoped>\n",
       "    .dataframe tbody tr th:only-of-type {\n",
       "        vertical-align: middle;\n",
       "    }\n",
       "\n",
       "    .dataframe tbody tr th {\n",
       "        vertical-align: top;\n",
       "    }\n",
       "\n",
       "    .dataframe thead th {\n",
       "        text-align: right;\n",
       "    }\n",
       "</style>\n",
       "<table border=\"1\" class=\"dataframe\">\n",
       "  <thead>\n",
       "    <tr style=\"text-align: right;\">\n",
       "      <th></th>\n",
       "      <th>Student ID</th>\n",
       "      <th>student_name</th>\n",
       "      <th>gender</th>\n",
       "      <th>grade</th>\n",
       "      <th>school_name</th>\n",
       "      <th>reading_score</th>\n",
       "      <th>math_score</th>\n",
       "      <th>School ID</th>\n",
       "      <th>type</th>\n",
       "      <th>size</th>\n",
       "      <th>budget</th>\n",
       "    </tr>\n",
       "  </thead>\n",
       "  <tbody>\n",
       "    <tr>\n",
       "      <th>0</th>\n",
       "      <td>0</td>\n",
       "      <td>Paul Bradley</td>\n",
       "      <td>M</td>\n",
       "      <td>9th</td>\n",
       "      <td>Huang High School</td>\n",
       "      <td>66</td>\n",
       "      <td>79</td>\n",
       "      <td>0</td>\n",
       "      <td>District</td>\n",
       "      <td>2917</td>\n",
       "      <td>1910635</td>\n",
       "    </tr>\n",
       "    <tr>\n",
       "      <th>1</th>\n",
       "      <td>1</td>\n",
       "      <td>Victor Smith</td>\n",
       "      <td>M</td>\n",
       "      <td>12th</td>\n",
       "      <td>Huang High School</td>\n",
       "      <td>94</td>\n",
       "      <td>61</td>\n",
       "      <td>0</td>\n",
       "      <td>District</td>\n",
       "      <td>2917</td>\n",
       "      <td>1910635</td>\n",
       "    </tr>\n",
       "    <tr>\n",
       "      <th>2</th>\n",
       "      <td>2</td>\n",
       "      <td>Kevin Rodriguez</td>\n",
       "      <td>M</td>\n",
       "      <td>12th</td>\n",
       "      <td>Huang High School</td>\n",
       "      <td>90</td>\n",
       "      <td>60</td>\n",
       "      <td>0</td>\n",
       "      <td>District</td>\n",
       "      <td>2917</td>\n",
       "      <td>1910635</td>\n",
       "    </tr>\n",
       "    <tr>\n",
       "      <th>3</th>\n",
       "      <td>3</td>\n",
       "      <td>Dr. Richard Scott</td>\n",
       "      <td>M</td>\n",
       "      <td>12th</td>\n",
       "      <td>Huang High School</td>\n",
       "      <td>67</td>\n",
       "      <td>58</td>\n",
       "      <td>0</td>\n",
       "      <td>District</td>\n",
       "      <td>2917</td>\n",
       "      <td>1910635</td>\n",
       "    </tr>\n",
       "    <tr>\n",
       "      <th>4</th>\n",
       "      <td>4</td>\n",
       "      <td>Bonnie Ray</td>\n",
       "      <td>F</td>\n",
       "      <td>9th</td>\n",
       "      <td>Huang High School</td>\n",
       "      <td>97</td>\n",
       "      <td>84</td>\n",
       "      <td>0</td>\n",
       "      <td>District</td>\n",
       "      <td>2917</td>\n",
       "      <td>1910635</td>\n",
       "    </tr>\n",
       "  </tbody>\n",
       "</table>\n",
       "</div>"
      ],
      "text/plain": [
       "   Student ID       student_name gender grade        school_name  \\\n",
       "0           0       Paul Bradley      M   9th  Huang High School   \n",
       "1           1       Victor Smith      M  12th  Huang High School   \n",
       "2           2    Kevin Rodriguez      M  12th  Huang High School   \n",
       "3           3  Dr. Richard Scott      M  12th  Huang High School   \n",
       "4           4         Bonnie Ray      F   9th  Huang High School   \n",
       "\n",
       "   reading_score  math_score  School ID      type  size   budget  \n",
       "0             66          79          0  District  2917  1910635  \n",
       "1             94          61          0  District  2917  1910635  \n",
       "2             90          60          0  District  2917  1910635  \n",
       "3             67          58          0  District  2917  1910635  \n",
       "4             97          84          0  District  2917  1910635  "
      ]
     },
     "execution_count": 1,
     "metadata": {},
     "output_type": "execute_result"
    }
   ],
   "source": [
    "# Dependencies and Setup\n",
    "import pandas as pd\n",
    "\n",
    "# File to Load (** SOMETHING NEEDS TO CHANGE HERE? Remember to Change These)\n",
    "school_data_to_load = \"Resources/schools_complete.csv\"\n",
    "student_data_to_load = \"Resources/students_complete.csv\"\n",
    "\n",
    "# Read School and Student Data File and store into Pandas DataFrames\n",
    "school_data = pd.read_csv(school_data_to_load)\n",
    "student_data = pd.read_csv(student_data_to_load)\n",
    "\n",
    "# Combine the data into a single dataset.  \n",
    "school_data_complete = pd.merge(student_data, school_data, how=\"left\", on=[\"school_name\", \"school_name\"])\n",
    "school_data_complete.head()"
   ]
  },
  {
   "cell_type": "markdown",
   "id": "cadd86b7",
   "metadata": {},
   "source": [
    "## District Summary"
   ]
  },
  {
   "cell_type": "code",
   "execution_count": 2,
   "id": "4ec31999",
   "metadata": {},
   "outputs": [],
   "source": [
    "#Total number of unique schools"
   ]
  },
  {
   "cell_type": "code",
   "execution_count": 3,
   "id": "74da1b3e",
   "metadata": {},
   "outputs": [],
   "source": [
    "#Total students"
   ]
  },
  {
   "cell_type": "code",
   "execution_count": 4,
   "id": "4601c5a2",
   "metadata": {},
   "outputs": [],
   "source": [
    "#Total budget"
   ]
  },
  {
   "cell_type": "code",
   "execution_count": 5,
   "id": "b4a09398",
   "metadata": {},
   "outputs": [],
   "source": [
    "#Average math score"
   ]
  },
  {
   "cell_type": "code",
   "execution_count": 6,
   "id": "61ca95e0",
   "metadata": {},
   "outputs": [],
   "source": [
    "#Average reading score"
   ]
  },
  {
   "cell_type": "code",
   "execution_count": 7,
   "id": "cea41cc7",
   "metadata": {},
   "outputs": [],
   "source": [
    "#% passing math (the percentage of students who passed math)"
   ]
  },
  {
   "cell_type": "code",
   "execution_count": 8,
   "id": "1e998a49",
   "metadata": {},
   "outputs": [],
   "source": [
    "#% passing reading (the percentage of students who passed reading)"
   ]
  },
  {
   "cell_type": "code",
   "execution_count": 9,
   "id": "50e5ee76",
   "metadata": {},
   "outputs": [],
   "source": [
    "# overall passing (the percentage of students who passed math AND reading)"
   ]
  },
  {
   "cell_type": "markdown",
   "id": "e89c1c87",
   "metadata": {},
   "source": [
    "## School Summary"
   ]
  },
  {
   "cell_type": "code",
   "execution_count": 10,
   "id": "3c3d09d3",
   "metadata": {},
   "outputs": [],
   "source": [
    "#School name"
   ]
  },
  {
   "cell_type": "code",
   "execution_count": 11,
   "id": "7a03fef3",
   "metadata": {},
   "outputs": [],
   "source": [
    "#School type"
   ]
  },
  {
   "cell_type": "code",
   "execution_count": 12,
   "id": "b0a395d0",
   "metadata": {},
   "outputs": [],
   "source": [
    "#Total students"
   ]
  },
  {
   "cell_type": "code",
   "execution_count": 13,
   "id": "672a3121",
   "metadata": {},
   "outputs": [],
   "source": [
    "#Total school budget"
   ]
  },
  {
   "cell_type": "code",
   "execution_count": 14,
   "id": "c0a6ed93",
   "metadata": {},
   "outputs": [],
   "source": [
    "#Per student budget"
   ]
  },
  {
   "cell_type": "code",
   "execution_count": 15,
   "id": "8a6630dc",
   "metadata": {},
   "outputs": [],
   "source": [
    "#Average math score"
   ]
  },
  {
   "cell_type": "code",
   "execution_count": 16,
   "id": "d312f2ed",
   "metadata": {},
   "outputs": [],
   "source": [
    "#Average reading score"
   ]
  },
  {
   "cell_type": "code",
   "execution_count": 17,
   "id": "4983c464",
   "metadata": {},
   "outputs": [],
   "source": [
    "#% passing math (the percentage of students who passed math)"
   ]
  },
  {
   "cell_type": "code",
   "execution_count": 18,
   "id": "08a25eb9",
   "metadata": {},
   "outputs": [],
   "source": [
    "#% passing reading (the percentage of students who passed reading)"
   ]
  },
  {
   "cell_type": "code",
   "execution_count": 19,
   "id": "e16e125c",
   "metadata": {},
   "outputs": [],
   "source": [
    "#% overall passing (the percentage of students who passed math AND reading)"
   ]
  },
  {
   "cell_type": "markdown",
   "id": "729064aa",
   "metadata": {},
   "source": [
    "## Highest-Performing Schools (by % Overall Passing)"
   ]
  },
  {
   "cell_type": "markdown",
   "id": "ba245694",
   "metadata": {},
   "source": [
    "Sort the schools by `% Overall Passing` in descending order and display the top 5 rows. \n",
    "Save the results in a DataFrame called \"top_schools\"."
   ]
  },
  {
   "cell_type": "markdown",
   "id": "30a2191e",
   "metadata": {},
   "source": [
    "## Lowest-Performing Schools (by % Overall Passing)"
   ]
  },
  {
   "cell_type": "markdown",
   "id": "9cb2acbe",
   "metadata": {},
   "source": [
    "Sort the schools by `% Overall Passing` in ascending order and display the top 5 rows.\n",
    "Save the results in a DataFrame called \"bottom_schools\"."
   ]
  },
  {
   "cell_type": "markdown",
   "id": "c3552819",
   "metadata": {},
   "source": [
    "## Math Scores by Grade"
   ]
  },
  {
   "cell_type": "markdown",
   "id": "3cedf99c",
   "metadata": {},
   "source": [
    "Perform the necessary calculations to create a DataFrame that lists the average math score for students of each grade level (9th, 10th, 11th, 12th) at each school."
   ]
  },
  {
   "cell_type": "markdown",
   "id": "5e7ae158",
   "metadata": {},
   "source": [
    "## Reading Scores by Grade"
   ]
  },
  {
   "cell_type": "markdown",
   "id": "bc98b4ce",
   "metadata": {},
   "source": [
    "Create a DataFrame that lists the average reading score for students of each grade level (9th, 10th, 11th, 12th) at each school."
   ]
  },
  {
   "cell_type": "markdown",
   "id": "aadcdcfb",
   "metadata": {},
   "source": [
    "## Scores by School Spending"
   ]
  },
  {
   "cell_type": "markdown",
   "id": "7e2814e3",
   "metadata": {},
   "source": [
    "Create a table that breaks down school performance based on average spending ranges (per student).\n",
    "\n",
    "Use the code provided below to create four bins with reasonable cutoff values to group school spending.\n",
    "\n",
    "spending_bins = [0, 585, 630, 645, 680]\n",
    "labels = [\"<$585\", \"$585-630\", \"$630-645\", \"$645-680\"]\n",
    "Use `pd.cut` to categorize spending based on the bins.\n",
    "\n",
    "Use the following code to then calculate mean scores per spending range.\n",
    "\n",
    "spending_math_scores = school_spending_df.groupby([\"Spending Ranges (Per Student)\"]).mean()[\"Average Math Score\"]\n",
    "spending_reading_scores = school_spending_df.groupby([\"Spending Ranges (Per Student)\"]).mean()[\"Average Reading Score\"]\n",
    "spending_passing_math = school_spending_df.groupby([\"Spending Ranges (Per Student)\"]).mean()[\"% Passing Math\"]\n",
    "spending_passing_reading = school_spending_df.groupby([\"Spending Ranges (Per Student)\"]).mean()[\"% Passing Reading\"]\n",
    "overall_passing_spending = school_spending_df.groupby([\"Spending Ranges (Per Student)\"]).mean()[\"% Overall Passing\"]\n",
    "Use the scores above to create a DataFrame called `spending_summary`.\n",
    "\n",
    "Include the following metrics in the table:\n",
    "\n",
    "Average math score\n",
    "\n",
    "Average reading score\n",
    "\n",
    "% passing math (the percentage of students who passed math)\n",
    "\n",
    "% passing reading (the percentage of students who passed reading)\n",
    "\n",
    "% overall passing (the percentage of students who passed math AND reading)"
   ]
  },
  {
   "cell_type": "markdown",
   "id": "0cdf690b",
   "metadata": {},
   "source": [
    "## Scores by School Size"
   ]
  },
  {
   "cell_type": "markdown",
   "id": "5fef8456",
   "metadata": {},
   "source": [
    "Use the following code to bin the `per_school_summary`.\n",
    "\n",
    "size_bins = [0, 1000, 2000, 5000]\n",
    "labels = [\"Small (<1000)\", \"Medium (1000-2000)\", \"Large (2000-5000)\"]\n",
    "Use `pd.cut` on the \"Total Students\" column of the `per_school_summary` DataFrame.\n",
    "\n",
    "Create a DataFrame called `size_summary` that breaks down school performance based on school size (small, medium, or large)."
   ]
  },
  {
   "cell_type": "markdown",
   "id": "00ca986b",
   "metadata": {},
   "source": [
    "## Scores by School Type"
   ]
  },
  {
   "cell_type": "markdown",
   "id": "048aa4e7",
   "metadata": {},
   "source": [
    "Use the `per_school_summary` DataFrame from the previous step to create a new DataFrame called `type_summary`.\n",
    "\n",
    "This new DataFrame should show school performance based on the \"School Type\"."
   ]
  },
  {
   "cell_type": "code",
   "execution_count": null,
   "id": "6d789e1c",
   "metadata": {},
   "outputs": [],
   "source": []
  }
 ],
 "metadata": {
  "kernelspec": {
   "display_name": "Python 3 (ipykernel)",
   "language": "python",
   "name": "python3"
  },
  "language_info": {
   "codemirror_mode": {
    "name": "ipython",
    "version": 3
   },
   "file_extension": ".py",
   "mimetype": "text/x-python",
   "name": "python",
   "nbconvert_exporter": "python",
   "pygments_lexer": "ipython3",
   "version": "3.9.13"
  }
 },
 "nbformat": 4,
 "nbformat_minor": 5
}
