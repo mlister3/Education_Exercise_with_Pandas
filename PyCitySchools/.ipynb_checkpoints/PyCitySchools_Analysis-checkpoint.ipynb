{
 "cells": [
  {
   "cell_type": "markdown",
   "id": "0632db9d",
   "metadata": {},
   "source": [
    "# PyCity Schools Analysis"
   ]
  },
  {
   "cell_type": "code",
   "execution_count": null,
   "id": "6b61e10f",
   "metadata": {
    "scrolled": true
   },
   "outputs": [],
   "source": [
    "# Dependencies and Setup\n",
    "import pandas as pd\n",
    "\n",
    "# File to Load (** SOMETHING NEEDS TO CHANGE HERE? Remember to Change These)\n",
    "school_data_to_load = \"Resources/schools_complete.csv\"\n",
    "student_data_to_load = \"Resources/students_complete.csv\"\n",
    "\n",
    "# Read School and Student Data File and store into Pandas DataFrames\n",
    "school_data = pd.read_csv(school_data_to_load)\n",
    "student_data = pd.read_csv(student_data_to_load)\n",
    "\n",
    "# Combine the data into a single dataset.  \n",
    "school_data_complete = pd.merge(student_data, school_data, how=\"left\", on=[\"school_name\", \"school_name\"])\n",
    "school_data_complete.head()"
   ]
  },
  {
   "cell_type": "markdown",
   "id": "dbdaddc4",
   "metadata": {},
   "source": [
    "## District Summary"
   ]
  },
  {
   "cell_type": "code",
   "execution_count": null,
   "id": "080f5ff0",
   "metadata": {},
   "outputs": [],
   "source": [
    "school_data_complete.describe()"
   ]
  },
  {
   "cell_type": "code",
   "execution_count": null,
   "id": "204007b3",
   "metadata": {},
   "outputs": [],
   "source": [
    "#Total number of unique schools\n",
    "total_unique_schools = school_data_complete[\"school_name\"].nunique()\n",
    "total_unique_schools"
   ]
  },
  {
   "cell_type": "code",
   "execution_count": null,
   "id": "82c6ac9b",
   "metadata": {},
   "outputs": [],
   "source": [
    "#Total students\n",
    "individual_students = school_data_complete[\"Student ID\"].count()\n",
    "individual_students"
   ]
  },
  {
   "cell_type": "code",
   "execution_count": null,
   "id": "40da8429",
   "metadata": {},
   "outputs": [],
   "source": [
    "#Total budget\n",
    "unique_schools = school_data_complete.drop_duplicates(subset=\"school_name\")\n",
    "TBudget = unique_schools[\"budget\"].sum()\n",
    "TBudget"
   ]
  },
  {
   "cell_type": "code",
   "execution_count": null,
   "id": "9b314f1b",
   "metadata": {},
   "outputs": [],
   "source": [
    "#Average math score\n",
    "AvgMathS = school_data_complete[\"math_score\"].mean()\n",
    "AvgMathS"
   ]
  },
  {
   "cell_type": "code",
   "execution_count": null,
   "id": "ca8d9d2f",
   "metadata": {},
   "outputs": [],
   "source": [
    "#Average reading score\n",
    "AvgReadS = school_data_complete[\"reading_score\"].mean()\n",
    "AvgReadS"
   ]
  },
  {
   "cell_type": "code",
   "execution_count": null,
   "id": "4b017252",
   "metadata": {},
   "outputs": [],
   "source": [
    "#% passing math (the percentage of students who passed math)\n",
    "PassWMath = school_data_complete[(school_data_complete[\"math_score\"] >= 70)].count()[\"student_name\"]\n",
    "PassWMath_Percent = PassWMath / float(individual_students) * 100\n",
    "PassWMath_Percent"
   ]
  },
  {
   "cell_type": "code",
   "execution_count": null,
   "id": "59b4576e",
   "metadata": {},
   "outputs": [],
   "source": [
    "#% passing reading (the percentage of students who passed reading)\n",
    "PassWRead = school_data_complete[(school_data_complete[\"reading_score\"] >= 70)].count()[\"student_name\"]\n",
    "PassWRead_Percent = PassWRead / float(individual_students) * 100\n",
    "PassWRead_Percent"
   ]
  },
  {
   "cell_type": "code",
   "execution_count": null,
   "id": "79de2531",
   "metadata": {},
   "outputs": [],
   "source": [
    "# overall passing (the percentage of students who passed math AND reading)\n",
    "OverAllPassCount = school_data_complete[(school_data_complete[\"math_score\"] >= 70) & (school_data_complete[\"reading_score\"] >= 70)\n",
    "].count()[\"student_name\"]\n",
    "OverallPRate = OverAllPassCount /  float(individual_students) * 100\n",
    "OverallPRate"
   ]
  },
  {
   "cell_type": "code",
   "execution_count": null,
   "id": "04b525a8",
   "metadata": {},
   "outputs": [],
   "source": [
    "# Create a high-level snapshot of the district's key metrics in a DataFrame\n",
    "district_summary = pd.DataFrame(\n",
    "{\n",
    "    \"Total School\": [total_unique_schools],\n",
    "    \"Total Students\": [individual_students],\n",
    "    \"Total Budget\": [TBudget],\n",
    "    \"Average Math Score\": [AvgMathS],\n",
    "    \"Average Reading Score\": [AvgReadS], \n",
    "    \"% Passing Math\": [PassWMath_Percent],\n",
    "    \"% Passing Reading\": [PassWRead_Percent],\n",
    "    \"% Overall Passing\": [OverallPRate]\n",
    "}\n",
    ")\n",
    "\n",
    "# Formatting\n",
    "district_summary[\"Total Students\"] = district_summary[\"Total Students\"].map(\"{:,}\".format)\n",
    "district_summary[\"Total Budget\"] = district_summary[\"Total Budget\"].map(\"${:,.2f}\".format)\n",
    "\n",
    "# Display the DataFrame\n",
    "district_summary"
   ]
  },
  {
   "cell_type": "markdown",
   "id": "5f98c4ad",
   "metadata": {},
   "source": [
    "## School Summary"
   ]
  },
  {
   "cell_type": "code",
   "execution_count": null,
   "id": "0f009ac9",
   "metadata": {},
   "outputs": [],
   "source": [
    "#School type\n",
    "school_types = unique_schools.set_index([\"school_name\"])[\"type\"]\n",
    "school_types_df = school_types.to_frame(\"School Type\")\n",
    "school_types_df"
   ]
  },
  {
   "cell_type": "code",
   "execution_count": null,
   "id": "a5445006",
   "metadata": {},
   "outputs": [],
   "source": [
    "#Total students\n",
    "TStudents = school_data_complete.groupby('school_name').size()\n",
    "TStudents_df = TStudents.to_frame(\"Total Students\")\n",
    "TStudents_df"
   ]
  },
  {
   "cell_type": "code",
   "execution_count": null,
   "id": "a30a903d",
   "metadata": {},
   "outputs": [],
   "source": [
    "#Total school budget\n",
    "per_school_budget = school_data_complete.groupby([\"school_name\"]).mean()[\"budget\"]\n",
    "per_school_budget_df = per_school_budget.to_frame(\"Total School Budget\")\n",
    "per_school_budget_df"
   ]
  },
  {
   "cell_type": "code",
   "execution_count": null,
   "id": "6f402e5b",
   "metadata": {},
   "outputs": [],
   "source": [
    "#Per student budget\n",
    "per_school_capita = per_school_budget / TStudents\n",
    "per_school_capita_df = per_school_capita.to_frame(\"Per Student Budget\")\n",
    "per_school_capita_df"
   ]
  },
  {
   "cell_type": "code",
   "execution_count": null,
   "id": "a02a0174",
   "metadata": {},
   "outputs": [],
   "source": [
    "#Average math score\n",
    "per_school_MS = school_data_complete.groupby([\"school_name\"]).mean()[\"math_score\"]\n",
    "per_school_MS_df = per_school_MS.to_frame(\"Average Math Score\")\n",
    "per_school_MS_df"
   ]
  },
  {
   "cell_type": "code",
   "execution_count": null,
   "id": "eb822ea5",
   "metadata": {},
   "outputs": [],
   "source": [
    "#Average reading score\n",
    "per_school_RS = school_data_complete.groupby([\"school_name\"]).mean()[\"reading_score\"]\n",
    "per_school_RS_df = per_school_RS.to_frame(\"Average Reading Score\")\n",
    "per_school_RS_df"
   ]
  },
  {
   "cell_type": "code",
   "execution_count": null,
   "id": "4d5c68b4",
   "metadata": {},
   "outputs": [],
   "source": [
    "#% passing math (the percentage of students who passed math)\n",
    "per_school_MPassing = school_data_complete[(school_data_complete[\"math_score\"] >= 70)].groupby([\"school_name\"])[\"student_name\"].size()\n",
    "per_school_MPPercent = per_school_MPassing / TStudents * 100\n",
    "per_school_MPPercent_df = per_school_MPPercent.to_frame(\"% Passing Math\")\n",
    "per_school_MPPercent_df"
   ]
  },
  {
   "cell_type": "code",
   "execution_count": null,
   "id": "ae6f4ac4",
   "metadata": {},
   "outputs": [],
   "source": [
    "#% passing reading (the percentage of students who passed reading)\n",
    "per_school_RPassing = school_data_complete[(school_data_complete[\"reading_score\"] >= 70)].groupby([\"school_name\"])[\"student_name\"].size()\n",
    "per_school_RPPercent = per_school_RPassing / TStudents * 100\n",
    "per_school_RPPercent_df = per_school_RPPercent.to_frame(\"% Passing Reading\")\n",
    "per_school_RPPercent_df"
   ]
  },
  {
   "cell_type": "code",
   "execution_count": null,
   "id": "b3b65ec2",
   "metadata": {},
   "outputs": [],
   "source": [
    "#% overall passing (the percentage of students who passed math AND reading)\n",
    "per_school_AllPassing = school_data_complete[(school_data_complete[\"math_score\"] >= 70) & (school_data_complete[\"reading_score\"] >= 70)].groupby([\"school_name\"])[\"student_name\"].size()\n",
    "per_school_AllPPercent = per_school_AllPassing / TStudents * 100\n",
    "per_school_AllPPercent_df = per_school_AllPPercent.to_frame(\"% Overall Passing\")\n",
    "per_school_AllPPercent_df"
   ]
  },
  {
   "cell_type": "code",
   "execution_count": null,
   "id": "eafaef53",
   "metadata": {},
   "outputs": [],
   "source": [
    "# Create a DataFrame called `per_school_summary` with columns for the calculations above.\n",
    "index = 0\n",
    "df_to_merge = [\n",
    "    school_types_df, TStudents_df, per_school_budget_df, \n",
    "    per_school_capita_df, per_school_MS_df, per_school_RS_df, \n",
    "    per_school_MPPercent_df, per_school_RPPercent_df, per_school_AllPPercent_df\n",
    "]\n",
    "\n",
    "per_school_summary = df_to_merge[0]\n",
    "for index in range(1, len(df_to_merge)):\n",
    "    per_school_summary = per_school_summary.merge(df_to_merge[index], on='school_name')\n",
    "\n",
    "# Formatting\n",
    "per_school_summary[\"Total School Budget\"] = per_school_summary[\"Total School Budget\"].map(\"${:,.2f}\".format)\n",
    "per_school_summary[\"Per Student Budget\"] = per_school_summary[\"Per Student Budget\"].map(\"${:,.2f}\".format)\n",
    "per_school_summary = per_school_summary.sort_values(by='school_name')\n",
    "\n",
    "# Display the DataFrame\n",
    "per_school_summary"
   ]
  },
  {
   "cell_type": "markdown",
   "id": "deb6345b",
   "metadata": {},
   "source": [
    "## Highest-Performing Schools (by % Overall Passing)"
   ]
  },
  {
   "cell_type": "markdown",
   "id": "76a94ad5",
   "metadata": {},
   "source": [
    "Sort the schools by `% Overall Passing` in descending order and display the top 5 rows. \n",
    "Save the results in a DataFrame called \"top_schools\"."
   ]
  },
  {
   "cell_type": "code",
   "execution_count": null,
   "id": "c156f2ea",
   "metadata": {},
   "outputs": [],
   "source": [
    "top_schools = per_school_summary.sort_values(by='% Overall Passing', ascending=False)\n",
    "top_schools.head()"
   ]
  },
  {
   "cell_type": "markdown",
   "id": "da837c95",
   "metadata": {},
   "source": [
    "## Lowest-Performing Schools (by % Overall Passing)"
   ]
  },
  {
   "cell_type": "markdown",
   "id": "b578c714",
   "metadata": {},
   "source": [
    "Sort the schools by `% Overall Passing` in ascending order and display the top 5 rows.\n",
    "Save the results in a DataFrame called \"bottom_schools\"."
   ]
  },
  {
   "cell_type": "code",
   "execution_count": null,
   "id": "6c736719",
   "metadata": {},
   "outputs": [],
   "source": [
    "bottom_schools = per_school_summary.sort_values(by='% Overall Passing', ascending=True)\n",
    "bottom_schools.head()"
   ]
  },
  {
   "cell_type": "markdown",
   "id": "32f2eba3",
   "metadata": {},
   "source": [
    "## Math Scores by Grade"
   ]
  },
  {
   "cell_type": "markdown",
   "id": "77d40325",
   "metadata": {},
   "source": [
    "Perform the necessary calculations to create a DataFrame that lists the average math score for students of each grade level (9th, 10th, 11th, 12th) at each school."
   ]
  },
  {
   "cell_type": "code",
   "execution_count": null,
   "id": "933ade25",
   "metadata": {},
   "outputs": [],
   "source": [
    "# Use the code provided to separate the data by grade\n",
    "ninth_graders = school_data_complete[(school_data_complete[\"grade\"] == \"9th\")]\n",
    "tenth_graders = school_data_complete[(school_data_complete[\"grade\"] == \"10th\")]\n",
    "eleventh_graders = school_data_complete[(school_data_complete[\"grade\"] == \"11th\")]\n",
    "twelfth_graders = school_data_complete[(school_data_complete[\"grade\"] == \"12th\")]\n",
    "\n",
    "# Group by \"school_name\" and take the mean of each.\n",
    "ninth_graders_scores = ninth_graders.groupby(\"school_name\")[\"math_score\"].mean()\n",
    "tenth_graders_scores = tenth_graders.groupby(\"school_name\")[\"math_score\"].mean()\n",
    "eleventh_graders_scores = eleventh_graders.groupby(\"school_name\")[\"math_score\"].mean()\n",
    "twelfth_graders_scores = twelfth_graders.groupby(\"school_name\")[\"math_score\"].mean()\n",
    "\n",
    "# Use the code to select only the `math_score`.\n",
    "ninth_grade_math_scores = ninth_graders_scores.to_frame(\"math_score\")\n",
    "tenth_grader_math_scores = tenth_graders_scores.to_frame(\"math_score\")\n",
    "eleventh_grader_math_scores = eleventh_graders_scores.to_frame(\"math_score\")\n",
    "twelfth_grader_math_scores = twelfth_graders_scores.to_frame(\"math_score\")\n",
    "\n",
    "# Combine each of the scores above into single DataFrame called `math_scores_by_grade`\n",
    "math_scores_by_grade = pd.concat([ninth_grade_math_scores, tenth_grader_math_scores, eleventh_grader_math_scores, twelfth_grader_math_scores], axis=1)\n",
    "math_scores_by_grade.columns = ['9th', '10th', '11th', '12th']\n",
    "\n",
    "# Minor data wrangling\n",
    "math_scores_by_grade.index.name = None\n",
    "\n",
    "# Display the DataFrame\n",
    "math_scores_by_grade"
   ]
  },
  {
   "cell_type": "markdown",
   "id": "7ce74e86",
   "metadata": {},
   "source": [
    "## Reading Scores by Grade"
   ]
  },
  {
   "cell_type": "markdown",
   "id": "c4a8e50e",
   "metadata": {},
   "source": [
    "Create a DataFrame that lists the average reading score for students of each grade level (9th, 10th, 11th, 12th) at each school."
   ]
  },
  {
   "cell_type": "code",
   "execution_count": null,
   "id": "2d400541",
   "metadata": {},
   "outputs": [],
   "source": [
    "# Use the code provided to separate the data by grade\n",
    "ninth_graders = school_data_complete[(school_data_complete[\"grade\"] == \"9th\")]\n",
    "tenth_graders = school_data_complete[(school_data_complete[\"grade\"] == \"10th\")]\n",
    "eleventh_graders = school_data_complete[(school_data_complete[\"grade\"] == \"11th\")]\n",
    "twelfth_graders = school_data_complete[(school_data_complete[\"grade\"] == \"12th\")]\n",
    "\n",
    "# Group by \"school_name\" and take the mean of each.\n",
    "ninth_graders_scores = ninth_graders.groupby(\"school_name\")[\"reading_score\"].mean()\n",
    "tenth_graders_scores = tenth_graders.groupby(\"school_name\")[\"reading_score\"].mean()\n",
    "eleventh_graders_scores = eleventh_graders.groupby(\"school_name\")[\"reading_score\"].mean()\n",
    "twelfth_graders_scores = twelfth_graders.groupby(\"school_name\")[\"reading_score\"].mean()\n",
    "\n",
    "# Use the code to select only the `reading_score`.\n",
    "ninth_grade_reading_scores = ninth_graders_scores.to_frame(\"reading_score\")\n",
    "tenth_grader_reading_scores = tenth_graders_scores.to_frame(\"reading_score\")\n",
    "eleventh_grader_reading_scores = eleventh_graders_scores.to_frame(\"reading_score\")\n",
    "twelfth_grader_reading_scores = twelfth_graders_scores.to_frame(\"reading_score\")\n",
    "\n",
    "# Combine each of the scores above into single DataFrame called `reading_scores_by_grade`\n",
    "reading_scores_by_grade = pd.concat([ninth_grade_reading_scores, tenth_grader_reading_scores, eleventh_grader_reading_scores, twelfth_grader_reading_scores], axis=1)\n",
    "reading_scores_by_grade.columns = ['9th', '10th', '11th', '12th']\n",
    "\n",
    "# Minor data wrangling\n",
    "reading_scores_by_grade = reading_scores_by_grade[[\"9th\", \"10th\", \"11th\", \"12th\"]]\n",
    "reading_scores_by_grade.index.name = None\n",
    "\n",
    "# Display the DataFrame\n",
    "reading_scores_by_grade"
   ]
  },
  {
   "cell_type": "markdown",
   "id": "09a09b55",
   "metadata": {},
   "source": [
    "## Scores by School Spending"
   ]
  },
  {
   "cell_type": "markdown",
   "id": "0ae28027",
   "metadata": {},
   "source": [
    "Create a table that breaks down school performance based on average spending ranges (per student).\n",
    "\n",
    "Use the code provided below to create four bins with reasonable cutoff values to group school spending.\n",
    "\n",
    "spending_bins = [0, 585, 630, 645, 680]\n",
    "labels = [\"<$585\", \"$585-630\", \"$630-645\", \"$645-680\"]\n",
    "Use `pd.cut` to categorize spending based on the bins.\n",
    "\n",
    "Use the following code to then calculate mean scores per spending range.\n",
    "\n",
    "spending_math_scores = school_spending_df.groupby([\"Spending Ranges (Per Student)\"]).mean()[\"Average Math Score\"]\n",
    "spending_reading_scores = school_spending_df.groupby([\"Spending Ranges (Per Student)\"]).mean()[\"Average Reading Score\"]\n",
    "spending_passing_math = school_spending_df.groupby([\"Spending Ranges (Per Student)\"]).mean()[\"% Passing Math\"]\n",
    "spending_passing_reading = school_spending_df.groupby([\"Spending Ranges (Per Student)\"]).mean()[\"% Passing Reading\"]\n",
    "overall_passing_spending = school_spending_df.groupby([\"Spending Ranges (Per Student)\"]).mean()[\"% Overall Passing\"]\n",
    "Use the scores above to create a DataFrame called `spending_summary`.\n",
    "\n",
    "Include the following metrics in the table:\n",
    "\n",
    "Average math score\n",
    "\n",
    "Average reading score\n",
    "\n",
    "% passing math (the percentage of students who passed math)\n",
    "\n",
    "% passing reading (the percentage of students who passed reading)\n",
    "\n",
    "% overall passing (the percentage of students who passed math AND reading)"
   ]
  },
  {
   "cell_type": "code",
   "execution_count": null,
   "id": "36fb4f70",
   "metadata": {},
   "outputs": [],
   "source": [
    "# Establish the bins \n",
    "spending_bins = [0, 585, 630, 645, 680]\n",
    "labels = [\"< $585\",\"$585-630\", \"$630−645\",\"$645-680\"]"
   ]
  },
  {
   "cell_type": "code",
   "execution_count": null,
   "id": "4334ead8",
   "metadata": {},
   "outputs": [],
   "source": [
    "# Create a copy of the school summary since it has the \"Per Student Budget\" \n",
    "import warnings\n",
    "warnings.filterwarnings(\"ignore\", category=FutureWarning)\n",
    "\n",
    "school_spending_df = per_school_summary.copy()\n",
    "school_spending_df['Per Student Budget'] = school_spending_df['Per Student Budget'].str.replace('$', '')\n",
    "school_spending_df['Per Student Budget'] = school_spending_df['Per Student Budget'].astype(float)"
   ]
  },
  {
   "cell_type": "code",
   "execution_count": null,
   "id": "98317df2",
   "metadata": {},
   "outputs": [],
   "source": [
    "# Use `pd.cut` to categorize spending based on the bins.\n",
    "school_spending_df[\"Spending Ranges (Per Student)\"] = pd.cut(school_spending_df['Per Student Budget'], bins=spending_bins, labels=labels)\n",
    "school_spending_df[\"Per Student Budget\"] = school_spending_df[\"Per Student Budget\"].map(\"${:,.2f}\".format)\n",
    "school_spending_df"
   ]
  },
  {
   "cell_type": "code",
   "execution_count": null,
   "id": "59e72451",
   "metadata": {},
   "outputs": [],
   "source": [
    "#  Calculate averages for the desired columns. \n",
    "spending_math_scores = school_spending_df.groupby([\"Spending Ranges (Per Student)\"]).mean()[\"Average Math Score\"]\n",
    "spending_reading_scores = school_spending_df.groupby([\"Spending Ranges (Per Student)\"]).mean()[\"Average Reading Score\"]\n",
    "spending_passing_math = school_spending_df.groupby([\"Spending Ranges (Per Student)\"]).mean()[\"% Passing Math\"]\n",
    "spending_passing_reading = school_spending_df.groupby([\"Spending Ranges (Per Student)\"]).mean()[\"% Passing Reading\"]\n",
    "overall_passing_spending = school_spending_df.groupby([\"Spending Ranges (Per Student)\"]).mean()[\"% Overall Passing\"]"
   ]
  },
  {
   "cell_type": "code",
   "execution_count": null,
   "id": "cc550fed",
   "metadata": {},
   "outputs": [],
   "source": [
    "# Assemble into DataFrame\n",
    "spending_summary = pd.concat([spending_math_scores, spending_reading_scores, spending_passing_math, spending_passing_reading, overall_passing_spending], axis=1)\n",
    "\n",
    "# Display results\n",
    "spending_summary"
   ]
  },
  {
   "cell_type": "markdown",
   "id": "df7b315d",
   "metadata": {},
   "source": [
    "## Scores by School Size"
   ]
  },
  {
   "cell_type": "markdown",
   "id": "67fdd9d2",
   "metadata": {},
   "source": [
    "Use the following code to bin the `per_school_summary`.\n",
    "\n",
    "size_bins = [0, 1000, 2000, 5000]\n",
    "labels = [\"Small (<1000)\", \"Medium (1000-2000)\", \"Large (2000-5000)\"]\n",
    "Use `pd.cut` on the \"Total Students\" column of the `per_school_summary` DataFrame.\n",
    "\n",
    "Create a DataFrame called `size_summary` that breaks down school performance based on school size (small, medium, or large)."
   ]
  },
  {
   "cell_type": "code",
   "execution_count": null,
   "id": "c6dc219a",
   "metadata": {},
   "outputs": [],
   "source": [
    "# Establish the bins.\n",
    "size_bins = [0, 1000, 2000, 5000]\n",
    "labels = [\"Small (<1000)\", \"Medium (1000-2000)\", \"Large (2000-5000)\"]"
   ]
  },
  {
   "cell_type": "code",
   "execution_count": null,
   "id": "3bfa1861",
   "metadata": {},
   "outputs": [],
   "source": [
    "# Categorize the spending based on the bins\n",
    "# Use `pd.cut` on the \"Total Students\" column of the `per_school_summary` DataFrame.\n",
    "\n",
    "per_school_summary[\"School Size\"] = "
   ]
  },
  {
   "cell_type": "code",
   "execution_count": null,
   "id": "ca28b61a",
   "metadata": {},
   "outputs": [],
   "source": [
    "# Calculate averages for the desired columns. \n",
    "size_math_scores = per_school_summary.groupby([\"School Size\"]).mean()[\"Average Math Score\"]\n",
    "size_reading_scores = per_school_summary.groupby([\"School Size\"]).mean()[\"Average Reading Score\"]\n",
    "size_passing_math = per_school_summary.groupby([\"School Size\"]).mean()[\"% Passing Math\"]\n",
    "size_passing_reading = per_school_summary.groupby([\"School Size\"]).mean()[\"% Passing Reading\"]\n",
    "size_overall_passing = per_school_summary.groupby([\"School Size\"]).mean()[\"% Overall Passing\"]"
   ]
  },
  {
   "cell_type": "code",
   "execution_count": null,
   "id": "95318fed",
   "metadata": {},
   "outputs": [],
   "source": [
    "# Create a DataFrame called `size_summary` that breaks down school performance based on school size (small, medium, or large).\n",
    "# Use the scores above to create a new DataFrame called `size_summary`\n",
    "\n",
    "\n",
    "# Display results\n",
    "size_summary"
   ]
  },
  {
   "cell_type": "markdown",
   "id": "f2b2b41c",
   "metadata": {},
   "source": [
    "## Scores by School Type"
   ]
  },
  {
   "cell_type": "markdown",
   "id": "c84eb8f9",
   "metadata": {},
   "source": [
    "Use the `per_school_summary` DataFrame from the previous step to create a new DataFrame called `type_summary`.\n",
    "\n",
    "This new DataFrame should show school performance based on the \"School Type\"."
   ]
  },
  {
   "cell_type": "code",
   "execution_count": null,
   "id": "e452a2e9",
   "metadata": {},
   "outputs": [],
   "source": []
  }
 ],
 "metadata": {
  "kernelspec": {
   "display_name": "Python 3 (ipykernel)",
   "language": "python",
   "name": "python3"
  },
  "language_info": {
   "codemirror_mode": {
    "name": "ipython",
    "version": 3
   },
   "file_extension": ".py",
   "mimetype": "text/x-python",
   "name": "python",
   "nbconvert_exporter": "python",
   "pygments_lexer": "ipython3",
   "version": "3.9.13"
  }
 },
 "nbformat": 4,
 "nbformat_minor": 5
}
